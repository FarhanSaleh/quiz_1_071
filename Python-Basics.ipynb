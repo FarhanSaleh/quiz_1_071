{
 "cells": [
  {
   "cell_type": "code",
   "execution_count": 1,
   "metadata": {},
   "outputs": [],
   "source": [
    "class MatrixCalculator:\n",
    "    def __init__(self, matrix):\n",
    "        self.matrix = matrix\n",
    "\n",
    "    def find_min_max(self):\n",
    "        min_val = min(min(row) for row in self.matrix)\n",
    "        max_val = max(max(row) for row in self.matrix)\n",
    "        return min_val, max_val\n",
    "\n",
    "    def transpose(self):\n",
    "        transposed_matrix = [[self.matrix[i][j] for i in range(len(self.matrix))] for j in range(len(self.matrix[0]))]\n",
    "        return transposed_matrix\n",
    "\n",
    "    def matrix_multiplication(self, other_matrix):\n",
    "        if len(self.matrix[0]) != len(other_matrix):\n",
    "            raise ValueError(\"The number of columns in the first matrix must match the number of rows in the second matrix.\")\n",
    "\n",
    "        result_matrix = [[0 for _ in range(len(other_matrix[0]))] for _ in range(len(self.matrix))]\n",
    "\n",
    "        for i in range(len(self.matrix)):\n",
    "            for j in range(len(other_matrix[0])):\n",
    "                for k in range(len(other_matrix)):\n",
    "                    result_matrix[i][j] += self.matrix[i][k] * other_matrix[k][j]\n",
    "\n",
    "        return result_matrix\n",
    "\n",
    "    def matrix_addition(self, other_matrix):\n",
    "        if len(self.matrix) != len(other_matrix) or len(self.matrix[0]) != len(other_matrix[0]):\n",
    "            raise ValueError(\"The matrices must have the same dimensions for addition.\")\n",
    "\n",
    "        result_matrix = [[0 for _ in range(len(self.matrix[0]))] for _ in range(len(self.matrix))]\n",
    "\n",
    "        for i in range(len(self.matrix)):\n",
    "            for j in range(len(self.matrix[0])):\n",
    "                result_matrix[i][j] = self.matrix[i][j] + other_matrix[i][j]\n",
    "\n",
    "        return result_matrix\n"
   ]
  },
  {
   "cell_type": "code",
   "execution_count": 2,
   "metadata": {},
   "outputs": [
    {
     "name": "stdout",
     "output_type": "stream",
     "text": [
      "Matrix A:\n",
      "[34, 100, 12]\n",
      "[72, 24, 55]\n",
      "[61, 20, 19]\n",
      "Elemen terbesar: 100\n",
      "Elemen terkecil: 12\n",
      "Matriks transpose:\n",
      "[34, 72, 61]\n",
      "[100, 24, 20]\n",
      "[12, 55, 19]\n",
      "Hasil perkalian matriks A dan transpose(A):\n",
      "[11300, 5508, 4302]\n",
      "[5508, 8785, 5917]\n",
      "[4302, 5917, 4482]\n",
      "Hasil penjumlahan matriks A dan transpose(A):\n",
      "[68, 172, 73]\n",
      "[172, 48, 75]\n",
      "[73, 75, 38]\n"
     ]
    }
   ],
   "source": [
    "if __name__ == \"__main__\":\n",
    "    matrix_A = [\n",
    "        [34, 100, 12],\n",
    "        [72, 24, 55],\n",
    "        [61, 20, 19]\n",
    "    ]\n",
    "    print(\"Matrix A:\")\n",
    "    for row in matrix_A:\n",
    "        print(row)\n",
    "    \n",
    "    calculator = MatrixCalculator(matrix_A)\n",
    "\n",
    "    # 1. Menghitung elemen terbesar dan terkecil\n",
    "    min_val, max_val = calculator.find_min_max()\n",
    "    print(\"Elemen terbesar:\", max_val)\n",
    "    print(\"Elemen terkecil:\", min_val)\n",
    "\n",
    "    # 2. Transpose matriks\n",
    "    transposed_matrix = calculator.transpose()\n",
    "    print(\"Matriks transpose:\")\n",
    "    for row in transposed_matrix:\n",
    "        print(row)\n",
    "\n",
    "    # 3. Menghitung perkalian matriks A dan matrix transpose\n",
    "    multiplication_result = calculator.matrix_multiplication(transposed_matrix)\n",
    "    print(\"Hasil perkalian matriks A dan transpose(A):\")\n",
    "    for row in multiplication_result:\n",
    "        print(row)\n",
    "\n",
    "    # 4. Menghitung penjumlahan matriks A dan transpose(A)\n",
    "    addition_result = calculator.matrix_addition(transposed_matrix)\n",
    "    print(\"Hasil penjumlahan matriks A dan transpose(A):\")\n",
    "    for row in addition_result:\n",
    "        print(row)"
   ]
  }
 ],
 "metadata": {
  "kernelspec": {
   "display_name": "Python 3",
   "language": "python",
   "name": "python3"
  },
  "language_info": {
   "codemirror_mode": {
    "name": "ipython",
    "version": 3
   },
   "file_extension": ".py",
   "mimetype": "text/x-python",
   "name": "python",
   "nbconvert_exporter": "python",
   "pygments_lexer": "ipython3",
   "version": "3.11.5"
  }
 },
 "nbformat": 4,
 "nbformat_minor": 2
}
